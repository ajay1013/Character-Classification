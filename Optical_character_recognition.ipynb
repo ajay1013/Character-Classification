{
  "nbformat": 4,
  "nbformat_minor": 0,
  "metadata": {
    "colab": {
      "name": "Optical character recognition.ipynb",
      "private_outputs": true,
      "provenance": [],
      "collapsed_sections": []
    },
    "kernelspec": {
      "name": "python3",
      "display_name": "Python 3"
    },
    "accelerator": "GPU"
  },
  "cells": [
    {
      "cell_type": "code",
      "metadata": {
        "id": "hqU5YfnarsgF"
      },
      "source": [
        "#import packages\n",
        "import matplotlib.pyplot as plt\n",
        "import pandas as pd\n",
        "from PIL import Image\n",
        "import numpy as np\n",
        "import math\n",
        "import os\n",
        "from shutil import copyfile\n",
        "\n",
        "import tensorflow as tf\n",
        "from tensorflow.keras.models import Sequential\n",
        "from tensorflow.keras.layers import Dense, Flatten, Conv2D, MaxPooling2D\n",
        "from tensorflow.keras.preprocessing.image import ImageDataGenerator\n",
        "from tensorflow.keras.models import load_model"
      ],
      "execution_count": null,
      "outputs": []
    },
    {
      "cell_type": "code",
      "metadata": {
        "id": "yQNio7RKsYDU"
      },
      "source": [
        "!wget http://www.ee.surrey.ac.uk/CVSSP/demos/chars74k/EnglishFnt.tgz"
      ],
      "execution_count": null,
      "outputs": []
    },
    {
      "cell_type": "code",
      "metadata": {
        "id": "XyE_u7VYsqxS"
      },
      "source": [
        "!tar -xvzf EnglishFnt.tgz"
      ],
      "execution_count": null,
      "outputs": []
    },
    {
      "cell_type": "markdown",
      "metadata": {
        "id": "2sL4JnH6jd3X"
      },
      "source": [
        "#first 0 to 9\n",
        "#then a to z\n",
        "#then A to Z"
      ]
    },
    {
      "cell_type": "code",
      "metadata": {
        "id": "gDtEHzOUsxGP"
      },
      "source": [
        "if not os.path.isdir('/content/dataset'):\n",
        "  os.mkdir('/content/dataset')\n",
        "if not os.path.isdir('/content/dataset/train'):\n",
        "  os.mkdir('/content/dataset/train')\n",
        "if not os.path.isdir('/content/dataset/valid'):\n",
        "  os.mkdir('/content/dataset/valid')\n",
        "if not os.path.isdir('/content/dataset/test'):\n",
        "  os.mkdir('/content/dataset/test')"
      ],
      "execution_count": null,
      "outputs": []
    },
    {
      "cell_type": "code",
      "metadata": {
        "id": "XkYX2nESvBiO"
      },
      "source": [
        "for i in sorted(os.listdir('/content/English/Fnt')):\n",
        "  if not os.path.isdir('/content/dataset/train/'+i):\n",
        "    os.mkdir('/content/dataset/train/'+i)\n",
        "  if not os.path.isdir('/content/dataset/valid/'+i):\n",
        "    os.mkdir('/content/dataset/valid/'+i)\n",
        "  if not os.path.isdir('dataset/test/'+i):\n",
        "    os.mkdir('/content/dataset/test/'+i)"
      ],
      "execution_count": null,
      "outputs": []
    },
    {
      "cell_type": "code",
      "metadata": {
        "id": "g5xPSnWfvgcy"
      },
      "source": [
        "base = '/content/English/Fnt/Sample'\n",
        "\n",
        "for char in range(1, 63):\n",
        "  classLen = len(os.listdir(base + str(char).zfill(3)))\n",
        "\n",
        "  trainLen = math.floor(classLen*0.80)\n",
        "  validLen = math.ceil(classLen*0.15)\n",
        "\n",
        "  randFnt = np.random.randint(low = 1, high = classLen, size = classLen)\n",
        "  randTrain = randFnt[:trainLen]\n",
        "  randValid = randFnt[trainLen : trainLen+validLen]\n",
        "  randTest = randFnt[trainLen+validLen :]\n",
        "\n",
        "  for imgNo in randTrain:\n",
        "    src = base+str(char).zfill(3)+'/img'+str(char).zfill(3)+'-'+str(imgNo).zfill(5)+'.png'\n",
        "    des = 'dataset/train/Sample'+str(char).zfill(3)+'/img'+str(char).zfill(3)+'-'+str(imgNo).zfill(5)+'.png'\n",
        "    copyfile(src, des)\n",
        "\n",
        "  for imgNo in randValid:\n",
        "    src = base+str(char).zfill(3)+'/img'+str(char).zfill(3)+'-'+str(imgNo).zfill(5)+'.png'\n",
        "    des = 'dataset/valid/Sample'+str(char).zfill(3)+'/img'+str(char).zfill(3)+'-'+str(imgNo).zfill(5)+'.png'\n",
        "    copyfile(src, des)\n",
        "\n",
        "  for imgNo in randTest:\n",
        "    src = base+str(char).zfill(3)+'/img'+str(char).zfill(3)+'-'+str(imgNo).zfill(5)+'.png'\n",
        "    des = 'dataset/test/Sample'+str(char).zfill(3)+'/img'+str(char).zfill(3)+'-'+str(imgNo).zfill(5)+'.png'\n",
        "    copyfile(src, des)"
      ],
      "execution_count": null,
      "outputs": []
    },
    {
      "cell_type": "code",
      "metadata": {
        "id": "oUm69HLzwHrt"
      },
      "source": [
        "data_generator = ImageDataGenerator(rescale=1.0/255.0)"
      ],
      "execution_count": null,
      "outputs": []
    },
    {
      "cell_type": "code",
      "metadata": {
        "id": "dY9GuLNswwxO"
      },
      "source": [
        "train_generator = data_generator.flow_from_directory('/content/dataset/train', target_size = (128,128), \n",
        "    batch_size = 128,\n",
        "    color_mode = 'grayscale',\n",
        "    class_mode = 'categorical')\n",
        "\n",
        "validation_generator = data_generator.flow_from_directory('/content/dataset/valid',target_size = (128,128),\n",
        "    batch_size = 128,\n",
        "    color_mode = 'grayscale',\n",
        "    class_mode = 'categorical')"
      ],
      "execution_count": null,
      "outputs": []
    },
    {
      "cell_type": "code",
      "metadata": {
        "id": "X81GvfLsaZxl"
      },
      "source": [
        "path = '/content/dataset/train'\n",
        "\n",
        "for i in os.listdir(path):\n",
        "  each_folder = os.path.join(path,i)\n",
        "  print(len(os.listdir(each_folder)))\n",
        "  print(i)"
      ],
      "execution_count": null,
      "outputs": []
    },
    {
      "cell_type": "code",
      "metadata": {
        "id": "A8uJ_ikuxcNc"
      },
      "source": [
        "def ocrModel():\n",
        "  model = Sequential()\n",
        "  model.add(Conv2D(32, (4,4), strides = (1,1), activation = 'relu', input_shape = (128, 128, 1)))\n",
        "  model.add(MaxPooling2D(pool_size = (4,4), strides = (2,2)))\n",
        "  model.add(Conv2D(64, (4,4), strides = (1,1), activation = 'relu', input_shape = (128, 128, 1)))\n",
        "  model.add(MaxPooling2D(pool_size = (4,4),strides = (2,2)))\n",
        "  model.add(Flatten())\n",
        "  model.add(Dense(310, activation='relu'))\n",
        "  model.add(Dense(62, activation = 'softmax'))\n",
        "  model.compile(optimizer = 'adam',loss = 'categorical_crossentropy',metrics = ['accuracy'])\n",
        "  return model"
      ],
      "execution_count": null,
      "outputs": []
    },
    {
      "cell_type": "code",
      "metadata": {
        "id": "dO5GvK-vx7CI"
      },
      "source": [
        "model = ocrModel()\n",
        "model.summary()"
      ],
      "execution_count": null,
      "outputs": []
    },
    {
      "cell_type": "code",
      "metadata": {
        "id": "XN36HgpYXjdt"
      },
      "source": [
        "model.compile(loss='categorical_crossentropy', optimizer='adam', metrics=['acc'])"
      ],
      "execution_count": null,
      "outputs": []
    },
    {
      "cell_type": "code",
      "metadata": {
        "id": "9sHW0lkKyE3p"
      },
      "source": [
        "fit_history = model.fit(train_generator, epochs = 20, validation_data = validation_generator)"
      ],
      "execution_count": null,
      "outputs": []
    },
    {
      "cell_type": "code",
      "metadata": {
        "id": "zazRX6v0eq96"
      },
      "source": [
        "plt.plot(fit_history.history[\"loss\"], label=\"Loss\")\n",
        "plt.plot(fit_history.history[\"val_loss\"], label=\"Val Loss\")\n",
        "plt.legend()"
      ],
      "execution_count": null,
      "outputs": []
    },
    {
      "cell_type": "code",
      "metadata": {
        "id": "NgRJZ5yNe1HM"
      },
      "source": [
        "plt.plot(fit_history.history[\"acc\"], label=\"acc\")\n",
        "plt.plot(fit_history.history[\"val_acc\"], label=\"Val acc\")\n",
        "plt.legend()"
      ],
      "execution_count": null,
      "outputs": []
    },
    {
      "cell_type": "code",
      "metadata": {
        "id": "3r1YgK4byfge"
      },
      "source": [
        "test_generator = data_generator.flow_from_directory(\n",
        "    '/content/dataset/test',\n",
        "    target_size = (128,128),\n",
        "    shuffle = False,\n",
        "    color_mode='grayscale')"
      ],
      "execution_count": null,
      "outputs": []
    },
    {
      "cell_type": "code",
      "metadata": {
        "id": "2Aw6uv3x0MKJ"
      },
      "source": [
        "eval = model.evaluate_generator(test_generator, verbose=1)\n",
        "print('Model performance:')\n",
        "print('loss for test dataset is : {}'.format(eval[0]))\n",
        "print('accuracy for test dataset is : {}'.format(eval[1]))"
      ],
      "execution_count": null,
      "outputs": []
    },
    {
      "cell_type": "code",
      "metadata": {
        "id": "shhX75Hc0QTO"
      },
      "source": [
        "model.save('/content/OCRmodel.h5')"
      ],
      "execution_count": null,
      "outputs": []
    },
    {
      "cell_type": "code",
      "metadata": {
        "id": "_T75g3R0GdhV"
      },
      "source": [
        "def image(Image_Path):\n",
        "  x = cv2.imread(Image_Path)\n",
        "  gray = cv2.cvtColor(x, cv2.COLOR_BGR2GRAY)\n",
        "  p = cv2.resize(gray, (128,128))\n",
        "  y = np.expand_dims(p, axis=2)\n",
        "  y = np.expand_dims(y, axis=0)\n",
        "  probab = model.predict(y)\n",
        "  result = np.argmax(probab)\n",
        "  return result"
      ],
      "execution_count": null,
      "outputs": []
    },
    {
      "cell_type": "code",
      "metadata": {
        "id": "vmmPjW86h1uX"
      },
      "source": [
        "import cv2"
      ],
      "execution_count": null,
      "outputs": []
    },
    {
      "cell_type": "code",
      "metadata": {
        "id": "KznazlX3GmEw"
      },
      "source": [
        "! wget https://i.pinimg.com/originals/0f/62/65/0f6265fe8dc448b8f032f161db77c033.png"
      ],
      "execution_count": null,
      "outputs": []
    },
    {
      "cell_type": "code",
      "metadata": {
        "id": "F0vDq9xQItoH"
      },
      "source": [
        "image('/content/0f6265fe8dc448b8f032f161db77c033.png')"
      ],
      "execution_count": null,
      "outputs": []
    },
    {
      "cell_type": "code",
      "metadata": {
        "id": "xN_vO3Zxijo_"
      },
      "source": [
        "!wget https://printables.space/files/uploads/download-and-print/large-printable-numbers/2-a4-1200x1697.jpg"
      ],
      "execution_count": null,
      "outputs": []
    },
    {
      "cell_type": "code",
      "metadata": {
        "id": "F-fIKIEtiq4m"
      },
      "source": [
        "image('/content/2-a4-1200x1697.jpg')"
      ],
      "execution_count": null,
      "outputs": []
    },
    {
      "cell_type": "code",
      "metadata": {
        "id": "Cej-k43iivrA"
      },
      "source": [
        "!wget https://upload.wikimedia.org/wikipedia/commons/thumb/3/3e/LetterA.svg/1200px-LetterA.svg.png"
      ],
      "execution_count": null,
      "outputs": []
    },
    {
      "cell_type": "code",
      "metadata": {
        "id": "LBoxGRdOjCO4"
      },
      "source": [
        "image('/content/1200px-LetterA.svg.png')"
      ],
      "execution_count": null,
      "outputs": []
    },
    {
      "cell_type": "code",
      "metadata": {
        "id": "PBnNV7DpjtWJ"
      },
      "source": [
        ""
      ],
      "execution_count": null,
      "outputs": []
    }
  ]
}